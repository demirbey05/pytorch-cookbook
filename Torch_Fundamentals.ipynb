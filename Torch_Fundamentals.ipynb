{
  "cells": [
    {
      "cell_type": "markdown",
      "metadata": {
        "id": "view-in-github",
        "colab_type": "text"
      },
      "source": [
        "<a href=\"https://colab.research.google.com/github/demirbey05/pytorch-cookbook/blob/main/Torch_Fundamentals.ipynb\" target=\"_parent\"><img src=\"https://colab.research.google.com/assets/colab-badge.svg\" alt=\"Open In Colab\"/></a>"
      ]
    },
    {
      "cell_type": "code",
      "execution_count": null,
      "metadata": {
        "id": "DpySFO5uUKm2"
      },
      "outputs": [],
      "source": [
        "import torch"
      ]
    },
    {
      "cell_type": "code",
      "execution_count": null,
      "metadata": {
        "colab": {
          "base_uri": "https://localhost:8080/"
        },
        "id": "gmNFROshUe9n",
        "outputId": "0a59314a-05e4-483a-f492-4bfcf4622ca8"
      },
      "outputs": [
        {
          "data": {
            "text/plain": [
              "tensor([ 0.,  1.,  2.,  3.,  4.,  5.,  6.,  7.,  8.,  9., 10., 11.])"
            ]
          },
          "execution_count": 5,
          "metadata": {},
          "output_type": "execute_result"
        }
      ],
      "source": [
        "# Create array of range 1 to 12\n",
        "x = torch.arange(12, dtype = torch.float32)\n",
        "x"
      ]
    },
    {
      "cell_type": "code",
      "execution_count": null,
      "metadata": {
        "colab": {
          "base_uri": "https://localhost:8080/"
        },
        "id": "gzzHhy8TU7aO",
        "outputId": "10357ba5-fc73-4661-cc8e-39735466b7d2"
      },
      "outputs": [
        {
          "data": {
            "text/plain": [
              "12"
            ]
          },
          "execution_count": 6,
          "metadata": {},
          "output_type": "execute_result"
        }
      ],
      "source": [
        "x.numel()"
      ]
    },
    {
      "cell_type": "code",
      "execution_count": null,
      "metadata": {
        "colab": {
          "base_uri": "https://localhost:8080/"
        },
        "id": "GznYo8OtVyk-",
        "outputId": "631b977e-04c2-4b8e-fda1-7a33063f35f6"
      },
      "outputs": [
        {
          "data": {
            "text/plain": [
              "torch.Size([12])"
            ]
          },
          "execution_count": 7,
          "metadata": {},
          "output_type": "execute_result"
        }
      ],
      "source": [
        "x.shape"
      ]
    },
    {
      "cell_type": "code",
      "execution_count": null,
      "metadata": {
        "colab": {
          "base_uri": "https://localhost:8080/"
        },
        "id": "6pvwUeNzV1PG",
        "outputId": "3f9e43ef-63da-451f-ab0e-6b6fb7f086b9"
      },
      "outputs": [
        {
          "data": {
            "text/plain": [
              "tensor([[ 0.,  1.,  2.,  3.],\n",
              "        [ 4.,  5.,  6.,  7.],\n",
              "        [ 8.,  9., 10., 11.]])"
            ]
          },
          "execution_count": 9,
          "metadata": {},
          "output_type": "execute_result"
        }
      ],
      "source": [
        "X = x.reshape(3,4)\n",
        "X"
      ]
    },
    {
      "cell_type": "code",
      "execution_count": null,
      "metadata": {
        "colab": {
          "base_uri": "https://localhost:8080/"
        },
        "id": "XZhfcHsyWHV-",
        "outputId": "b8f51f6c-328f-480a-9f7f-7133cc9aca79"
      },
      "outputs": [
        {
          "data": {
            "text/plain": [
              "torch.Size([3, 4])"
            ]
          },
          "execution_count": 10,
          "metadata": {},
          "output_type": "execute_result"
        }
      ],
      "source": [
        "X.shape"
      ]
    },
    {
      "cell_type": "code",
      "execution_count": null,
      "metadata": {
        "colab": {
          "base_uri": "https://localhost:8080/"
        },
        "id": "7PxSwXCHWMWm",
        "outputId": "a3f6511c-a732-434c-c9b2-7461536a1912"
      },
      "outputs": [
        {
          "data": {
            "text/plain": [
              "tensor([[ 0.,  1.,  2.,  3.],\n",
              "        [ 4.,  5.,  6.,  7.],\n",
              "        [ 8.,  9., 10., 11.]])"
            ]
          },
          "execution_count": 13,
          "metadata": {},
          "output_type": "execute_result"
        }
      ],
      "source": [
        "Y = x.reshape(3,-1)\n",
        "Y"
      ]
    },
    {
      "cell_type": "code",
      "execution_count": null,
      "metadata": {
        "colab": {
          "base_uri": "https://localhost:8080/"
        },
        "id": "phj-IcQzWS5P",
        "outputId": "fd027c1f-708b-4cf6-88e2-e7b722d54b76"
      },
      "outputs": [
        {
          "data": {
            "text/plain": [
              "tensor([[[0., 0., 0., 0.],\n",
              "         [0., 0., 0., 0.],\n",
              "         [0., 0., 0., 0.]],\n",
              "\n",
              "        [[0., 0., 0., 0.],\n",
              "         [0., 0., 0., 0.],\n",
              "         [0., 0., 0., 0.]]])"
            ]
          },
          "execution_count": 16,
          "metadata": {},
          "output_type": "execute_result"
        }
      ],
      "source": [
        "#Create 2 3x4 zeros Matrix meaning (2,3,4) shape\n",
        "\n",
        "torch.zeros((2,3,4))"
      ]
    },
    {
      "cell_type": "code",
      "execution_count": null,
      "metadata": {
        "colab": {
          "base_uri": "https://localhost:8080/"
        },
        "id": "u3XbmVzcWzG-",
        "outputId": "43549726-7e77-44cf-bb13-ca0b26a2ca8c"
      },
      "outputs": [
        {
          "data": {
            "text/plain": [
              "tensor([[[1., 1., 1., 1.],\n",
              "         [1., 1., 1., 1.],\n",
              "         [1., 1., 1., 1.]],\n",
              "\n",
              "        [[1., 1., 1., 1.],\n",
              "         [1., 1., 1., 1.],\n",
              "         [1., 1., 1., 1.]]])"
            ]
          },
          "execution_count": 18,
          "metadata": {},
          "output_type": "execute_result"
        }
      ],
      "source": [
        "#Create 2 3x4 ones Matrix meaning (2,3,4) shape\n",
        "torch.ones((2,3,4))"
      ]
    },
    {
      "cell_type": "code",
      "execution_count": null,
      "metadata": {
        "colab": {
          "base_uri": "https://localhost:8080/"
        },
        "id": "Puczcn5sW9gP",
        "outputId": "7b6081f7-75f4-4306-e80d-8097fe4f9e81"
      },
      "outputs": [
        {
          "data": {
            "text/plain": [
              "tensor([[[-0.3345, -0.0773,  0.2781, -1.3221],\n",
              "         [ 1.9029,  1.4754, -1.4848,  2.0995],\n",
              "         [-1.2669, -1.4944,  0.6726,  0.9922]],\n",
              "\n",
              "        [[ 0.7948, -1.1985, -0.1570, -0.7757],\n",
              "         [ 1.8360, -0.0448,  0.9625,  1.0157],\n",
              "         [-1.4525, -0.6477, -0.1668,  1.0591]]])"
            ]
          },
          "execution_count": 20,
          "metadata": {},
          "output_type": "execute_result"
        }
      ],
      "source": [
        "#Create 2 3x4 random Matrix meaning (2,3,4) shape  Drawn from Gaussina mean 0 stdev 1\n",
        "\n",
        "torch.randn((2,3,4))\n"
      ]
    },
    {
      "cell_type": "code",
      "execution_count": null,
      "metadata": {
        "colab": {
          "base_uri": "https://localhost:8080/"
        },
        "id": "zpNgvHrTXF5H",
        "outputId": "9a6ae198-4af8-497f-c7f6-3682d181e805"
      },
      "outputs": [
        {
          "data": {
            "text/plain": [
              "torch.Size([2, 3, 4])"
            ]
          },
          "execution_count": 40,
          "metadata": {},
          "output_type": "execute_result"
        }
      ],
      "source": [
        "#Create torch tensor manually with shape of 2,3,4\n",
        "a = torch.tensor([[[2,1,3,4],[2,4,5,6],[6,5,3,2]],[[1,2,3,4],[2,3,4,5],[5,6,7,8]]])\n",
        "a.shape"
      ]
    },
    {
      "cell_type": "markdown",
      "metadata": {
        "id": "-w79wxsyXtG-"
      },
      "source": [
        "# Indexing & Slicing"
      ]
    },
    {
      "cell_type": "code",
      "execution_count": null,
      "metadata": {
        "colab": {
          "base_uri": "https://localhost:8080/"
        },
        "id": "yc9Bm3xTXvEA",
        "outputId": "80b2f9f2-b780-4028-d294-9f43736c3b01"
      },
      "outputs": [
        {
          "data": {
            "text/plain": [
              "tensor([[[2, 1, 3, 4],\n",
              "         [2, 4, 5, 6],\n",
              "         [6, 5, 3, 2]]])"
            ]
          },
          "execution_count": 41,
          "metadata": {},
          "output_type": "execute_result"
        }
      ],
      "source": [
        "# Indexing start with zero , X[start:stop] --> [start,stop) , -1 starts from the end\n",
        "# When only one index is indicated in kth order tensor, the axis 0 will be selected\n",
        "a[-1] # returns last matrix\n",
        "a[0:2] # returns all\n",
        "a[0:-1] # returns first matrix"
      ]
    },
    {
      "cell_type": "code",
      "execution_count": null,
      "metadata": {
        "colab": {
          "base_uri": "https://localhost:8080/"
        },
        "id": "dcCTQjqoYMMX",
        "outputId": "c5a8290a-b507-464e-b075-8660ce805746"
      },
      "outputs": [
        {
          "data": {
            "text/plain": [
              "tensor([[[3, 1, 3, 4],\n",
              "         [2, 4, 5, 6],\n",
              "         [6, 5, 3, 2]],\n",
              "\n",
              "        [[1, 2, 3, 4],\n",
              "         [2, 3, 4, 5],\n",
              "         [5, 6, 7, 8]]])"
            ]
          },
          "execution_count": 42,
          "metadata": {},
          "output_type": "execute_result"
        }
      ],
      "source": [
        "# We can index in more detail by indicating more index\n",
        "a[0,0,0] = 3 # first matrix, first row , first column(axis 0,1,2)\n",
        "a"
      ]
    },
    {
      "cell_type": "code",
      "execution_count": null,
      "metadata": {
        "colab": {
          "base_uri": "https://localhost:8080/"
        },
        "id": "1N2iwV6XYiW3",
        "outputId": "535ae4d4-7d6f-4908-c4e6-a4f370fe393c"
      },
      "outputs": [
        {
          "data": {
            "text/plain": [
              "tensor([[[12, 12, 12, 12],\n",
              "         [12, 12, 12, 12],\n",
              "         [12, 12, 12, 12]],\n",
              "\n",
              "        [[ 1,  2,  3,  4],\n",
              "         [ 2,  3,  4,  5],\n",
              "         [ 5,  6,  7,  8]]])"
            ]
          },
          "execution_count": 43,
          "metadata": {},
          "output_type": "execute_result"
        }
      ],
      "source": [
        "# To assign multiple elements\n",
        "a[:1,:] = 12 ## assign first matrix's elems to 12\n",
        "a"
      ]
    },
    {
      "cell_type": "markdown",
      "metadata": {
        "id": "nsNvvOvDbiRf"
      },
      "source": [
        "# Operations"
      ]
    },
    {
      "cell_type": "code",
      "execution_count": null,
      "metadata": {
        "colab": {
          "base_uri": "https://localhost:8080/"
        },
        "id": "Zl4HcKbhbjyp",
        "outputId": "d6f2468a-de84-42b6-eb02-4b72fe93734a"
      },
      "outputs": [
        {
          "data": {
            "text/plain": [
              "tensor([[[1.6275e+05, 1.6275e+05, 1.6275e+05, 1.6275e+05],\n",
              "         [1.6275e+05, 1.6275e+05, 1.6275e+05, 1.6275e+05],\n",
              "         [1.6275e+05, 1.6275e+05, 1.6275e+05, 1.6275e+05]],\n",
              "\n",
              "        [[2.7183e+00, 7.3891e+00, 2.0086e+01, 5.4598e+01],\n",
              "         [7.3891e+00, 2.0086e+01, 5.4598e+01, 1.4841e+02],\n",
              "         [1.4841e+02, 4.0343e+02, 1.0966e+03, 2.9810e+03]]])"
            ]
          },
          "execution_count": 44,
          "metadata": {},
          "output_type": "execute_result"
        }
      ],
      "source": [
        "# Get exp(x) elementwise\n",
        "torch.exp(a)"
      ]
    },
    {
      "cell_type": "code",
      "execution_count": null,
      "metadata": {
        "colab": {
          "base_uri": "https://localhost:8080/"
        },
        "id": "J4di52lYkPSr",
        "outputId": "fe84b71e-32b9-4802-8553-c0f29b2960ae"
      },
      "outputs": [
        {
          "data": {
            "text/plain": [
              "(tensor([ 6.,  8., 10., 12.]),\n",
              " tensor([-4., -4., -4., -4.]),\n",
              " tensor([ 5., 12., 21., 32.]),\n",
              " tensor([0.2000, 0.3333, 0.4286, 0.5000]),\n",
              " tensor([1.0000e+00, 6.4000e+01, 2.1870e+03, 6.5536e+04]))"
            ]
          },
          "execution_count": 49,
          "metadata": {},
          "output_type": "execute_result"
        }
      ],
      "source": [
        "x = torch.tensor([1,2,3,4],dtype=torch.float32)\n",
        "y = torch.tensor([5,6,7,8],dtype=torch.float32)\n",
        "\n",
        "x+y , x-y , x*y, x/y , x**y"
      ]
    },
    {
      "cell_type": "code",
      "execution_count": null,
      "metadata": {
        "colab": {
          "base_uri": "https://localhost:8080/"
        },
        "id": "8fhh5IWKm3Rb",
        "outputId": "bf52eb11-deb0-44ca-ce10-e7e2eb209910"
      },
      "outputs": [
        {
          "data": {
            "text/plain": [
              "(tensor([[ 0.,  1.,  2.,  3.],\n",
              "         [ 4.,  5.,  6.,  7.],\n",
              "         [ 8.,  9., 10., 11.],\n",
              "         [ 2.,  1.,  4.,  3.],\n",
              "         [ 1.,  2.,  3.,  4.],\n",
              "         [ 4.,  3.,  2.,  1.]]),\n",
              " tensor([[ 0.,  1.,  2.,  3.,  2.,  1.,  4.,  3.],\n",
              "         [ 4.,  5.,  6.,  7.,  1.,  2.,  3.,  4.],\n",
              "         [ 8.,  9., 10., 11.,  4.,  3.,  2.,  1.]]))"
            ]
          },
          "execution_count": 54,
          "metadata": {},
          "output_type": "execute_result"
        }
      ],
      "source": [
        "# Concatenate two tensors\n",
        "X = torch.arange(12,dtype=torch.float32).reshape((3,4))\n",
        "Y = torch.tensor([[2.0,1,4,3],[1,2,3,4],[4,3,2,1]],dtype=torch.float32)\n",
        "torch.cat((X,Y),dim=0) , torch.cat((X,Y),dim=1)\n"
      ]
    },
    {
      "cell_type": "code",
      "execution_count": null,
      "metadata": {
        "colab": {
          "base_uri": "https://localhost:8080/"
        },
        "id": "8YjYD7BfnjSl",
        "outputId": "5b6bba32-5376-4c64-9b31-8bdb29e6b046"
      },
      "outputs": [
        {
          "data": {
            "text/plain": [
              "tensor([[False,  True, False,  True],\n",
              "        [False, False, False, False],\n",
              "        [False, False, False, False]])"
            ]
          },
          "execution_count": 55,
          "metadata": {},
          "output_type": "execute_result"
        }
      ],
      "source": [
        "X==Y"
      ]
    },
    {
      "cell_type": "code",
      "execution_count": null,
      "metadata": {
        "colab": {
          "base_uri": "https://localhost:8080/"
        },
        "id": "j1KoZu1porte",
        "outputId": "f6f846c0-a1ef-4a3f-de8b-d59de0008594"
      },
      "outputs": [
        {
          "data": {
            "text/plain": [
              "tensor(66.)"
            ]
          },
          "execution_count": 56,
          "metadata": {},
          "output_type": "execute_result"
        }
      ],
      "source": [
        "X.sum()"
      ]
    },
    {
      "cell_type": "markdown",
      "metadata": {
        "id": "SvkijHMUsAqA"
      },
      "source": [
        "# Broadcasting"
      ]
    },
    {
      "cell_type": "code",
      "execution_count": null,
      "metadata": {
        "colab": {
          "base_uri": "https://localhost:8080/"
        },
        "id": "ZFRd7cFFsDKk",
        "outputId": "248d5659-c87d-4128-910c-00a8a8ea06ad"
      },
      "outputs": [
        {
          "data": {
            "text/plain": [
              "(tensor([[0],\n",
              "         [1],\n",
              "         [2]]),\n",
              " tensor([[0, 1]]))"
            ]
          },
          "execution_count": 57,
          "metadata": {},
          "output_type": "execute_result"
        }
      ],
      "source": [
        "# In different shapes, the operation is executed by broadcasting\n",
        "\n",
        "a = torch.arange(3).reshape((3,1))\n",
        "b = torch.arange(2).reshape((1,2))\n",
        "\n",
        "a,b"
      ]
    },
    {
      "cell_type": "code",
      "execution_count": null,
      "metadata": {
        "id": "Gqt_5t2Ss4v-"
      },
      "outputs": [],
      "source": [
        "# broadcast produces 3x2 tensor\n",
        "a + b\n",
        "\"\"\"\n",
        "a is converted to 0 0\n",
        "                  1 1\n",
        "                  2 2\n",
        "\n",
        "b is converted to 0 1\n",
        "                  0 1\n",
        "                  0 1\n",
        "\n",
        "\"\"\""
      ]
    },
    {
      "cell_type": "code",
      "execution_count": null,
      "metadata": {
        "colab": {
          "background_save": true,
          "base_uri": "https://localhost:8080/"
        },
        "id": "MY4IAkaAtCjF",
        "outputId": "a30c4f90-f43f-4535-fccb-33ce2296d906"
      },
      "outputs": [
        {
          "data": {
            "text/plain": [
              "(tensor([[[ 0.3894, -0.4649, -0.5856],\n",
              "          [-0.0935,  0.6471, -0.1045],\n",
              "          [-0.8069,  1.3140, -0.3212],\n",
              "          [-0.4951,  0.4591,  0.9493]],\n",
              " \n",
              "         [[-0.2336, -1.6698, -2.2125],\n",
              "          [-0.5491, -0.2202, -1.7277],\n",
              "          [ 0.6667, -0.7512, -0.3466],\n",
              "          [-0.0817, -0.7931, -1.0728]],\n",
              " \n",
              "         [[ 0.9861, -0.7246, -1.4052],\n",
              "          [ 1.0300, -1.2898,  1.7754],\n",
              "          [ 1.3292,  0.3951,  0.6711],\n",
              "          [-1.2173, -1.4115, -0.5370]],\n",
              " \n",
              "         [[ 0.6001, -0.3692,  2.0187],\n",
              "          [ 0.4794, -0.1606, -0.3507],\n",
              "          [ 0.3845, -0.0318, -1.4918],\n",
              "          [ 0.1252,  0.5901, -0.1798]],\n",
              " \n",
              "         [[ 1.2700, -1.1363,  0.4303],\n",
              "          [ 0.1025,  2.4732,  0.2701],\n",
              "          [-0.0593, -0.0914, -1.5599],\n",
              "          [-0.3936,  0.7621,  0.1479]]]),\n",
              " tensor([[[1., 1., 1.],\n",
              "          [1., 1., 1.],\n",
              "          [1., 1., 1.],\n",
              "          [1., 1., 1.]]]))"
            ]
          },
          "execution_count": 90,
          "metadata": {},
          "output_type": "execute_result"
        }
      ],
      "source": [
        "x=torch.randn(60).reshape((5,4,3))\n",
        "y=torch.ones((1,4,3))\n",
        "x,y"
      ]
    },
    {
      "cell_type": "code",
      "execution_count": null,
      "metadata": {
        "id": "Tr41mYWVtlR2"
      },
      "outputs": [],
      "source": []
    }
  ],
  "metadata": {
    "colab": {
      "provenance": [],
      "authorship_tag": "ABX9TyOAklEvqWRgg4/S2v/V9rjK",
      "include_colab_link": true
    },
    "kernelspec": {
      "display_name": "Python 3",
      "name": "python3"
    },
    "language_info": {
      "name": "python"
    }
  },
  "nbformat": 4,
  "nbformat_minor": 0
}